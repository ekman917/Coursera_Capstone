{
  "nbformat": 4,
  "nbformat_minor": 0,
  "metadata": {
    "colab": {
      "name": "Capstone_Report.ipynb",
      "version": "0.3.2",
      "provenance": []
    },
    "kernelspec": {
      "name": "python3",
      "display_name": "Python 3"
    }
  },
  "cells": [
    {
      "cell_type": "markdown",
      "metadata": {
        "id": "X_YviDvg6qWj",
        "colab_type": "text"
      },
      "source": [
        "## Introduction"
      ]
    },
    {
      "cell_type": "markdown",
      "metadata": {
        "id": "JJzQ7qVz6sT7",
        "colab_type": "text"
      },
      "source": [
        "<div align=\"justify\">The aim of this project is to predict the count of likes a venue would get after it is registered on Foursquare. This is important for shop/restuarant owners or the management people of different venues to discover what features are essential so as to gain more likes on the platform. Obtaining more likes can also increase the popularity of their venue, which is beneficial and desirable.</div>\n",
        "\n"
      ]
    },
    {
      "cell_type": "markdown",
      "metadata": {
        "id": "qcx1Bb9h8PJ3",
        "colab_type": "text"
      },
      "source": [
        "## Data"
      ]
    },
    {
      "cell_type": "markdown",
      "metadata": {
        "id": "2a2eeuc295BL",
        "colab_type": "text"
      },
      "source": [
        "<div align=\"justify\"> A number of famous cities in the United States of America are chosen to be the points of data source. Foursqure API with explore endpoint can provide venue recommendation of the city specified in the query. The categories of these venues can be separated by providing section to the API, such as food, shop, sights, etc. With aid of this API, a list of venues of different categories is gathered along with some basic information including venue ID, name and address.\n",
        "</div>\n",
        "<br>\n",
        "<div align=\"justify\"> After calling the explore API, the details API is utilized by providing the venue ID. This API returns a dataset consists of more information of each venue, which are feature of the venue, venue created date, listed counts and like counts.\n",
        " </div>\n",
        "<br>\n",
        " <div align=\"justify\"> Combined the data together, data visualisation can be performed and data is filtered for model training.\n",
        " </div>"
      ]
    }
  ]
}