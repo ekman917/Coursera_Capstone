{
  "nbformat": 4,
  "nbformat_minor": 0,
  "metadata": {
    "colab": {
      "name": "Capstone_Report.ipynb",
      "version": "0.3.2",
      "provenance": [],
      "collapsed_sections": []
    },
    "kernelspec": {
      "name": "python3",
      "display_name": "Python 3"
    }
  },
  "cells": [
    {
      "cell_type": "markdown",
      "metadata": {
        "id": "CEWNIk5ICB2t",
        "colab_type": "text"
      },
      "source": [
        "<h1><center>Predicting the Rating of Venues on Foursquare</center></h1>"
      ]
    },
    {
      "cell_type": "markdown",
      "metadata": {
        "id": "dyHJjXr4CLVt",
        "colab_type": "text"
      },
      "source": [
        "<h2><center>Edward Man <br>\n",
        "    24th May, 2019</center></h2>"
      ]
    },
    {
      "cell_type": "markdown",
      "metadata": {
        "id": "X_YviDvg6qWj",
        "colab_type": "text"
      },
      "source": [
        "##1. Introduction"
      ]
    },
    {
      "cell_type": "markdown",
      "metadata": {
        "id": "FV12ktN8DD8o",
        "colab_type": "text"
      },
      "source": [
        "###1.1 Background"
      ]
    },
    {
      "cell_type": "markdown",
      "metadata": {
        "id": "RMl5wnosDI8g",
        "colab_type": "text"
      },
      "source": [
        "<div align='justify'>There are a number of APIs for users to gain venue data and details, such as Google Places API and Foursquare Places API. Regarding the Foursquare platform, it has 2 types of users, which are the venue users and the public users. It gives a place for venue owners to register their business while public users can check out the places, rate or like and even check in places. With more click rate or ratings, the venues can attract more customers, helping them them to raise profit.</div>"
      ]
    },
    {
      "cell_type": "markdown",
      "metadata": {
        "id": "aFD75lfHHstX",
        "colab_type": "text"
      },
      "source": [
        "###1.2 Problem"
      ]
    },
    {
      "cell_type": "markdown",
      "metadata": {
        "id": "JJzQ7qVz6sT7",
        "colab_type": "text"
      },
      "source": [
        "<div align=\"justify\">The aim of this project is to predict the average rating a venue would get after it is registered on Foursquare. This is important for shop/restuarant owners or the management people of different venues to discover what features are essential so as to give good impression to guests/customers. Obtaining higher rating can also reflect more popularity of their venue, which is beneficial and desirable. For people who are going to start their own business, it is also important to know which location is the best to receive high rating.</div>\n",
        "\n"
      ]
    },
    {
      "cell_type": "markdown",
      "metadata": {
        "id": "qcx1Bb9h8PJ3",
        "colab_type": "text"
      },
      "source": [
        "## 2. Data Source and Cleasing"
      ]
    },
    {
      "cell_type": "markdown",
      "metadata": {
        "id": "Htf92ggdJNBp",
        "colab_type": "text"
      },
      "source": [
        "###2.1 Source"
      ]
    },
    {
      "cell_type": "markdown",
      "metadata": {
        "id": "2a2eeuc295BL",
        "colab_type": "text"
      },
      "source": [
        "<div align=\"justify\"> The Foursquare API was used for this project while a number of famous cities in the United States of America were chosen to be the places for data query. Foursqure API with explore endpoint can provide venue recommendation of a city specified in the query. The categories of these venues can be separated by providing section to the API, such as food, shop, sights, etc. With aid of this API, a list of venues in the food, shops and outdoor categories were gathered along with some basic information including venue ID, name and address.\n",
        "</div>\n",
        "<br>\n",
        "<div align=\"justify\"> After calling the explore API, the details API was utilized by providing the venue ID acquired from the Explore API. This API returns a dataset consists of more information of each venue, which are features of the venue, venue created date, listed counts and like counts etc.\n",
        " </div>\n",
        "<br>\n",
        " "
      ]
    },
    {
      "cell_type": "markdown",
      "metadata": {
        "id": "ayxWZofNKxxG",
        "colab_type": "text"
      },
      "source": [
        "###2.2 Data Cleansing"
      ]
    },
    {
      "cell_type": "markdown",
      "metadata": {
        "id": "jiTusrImK1_H",
        "colab_type": "text"
      },
      "source": [
        "<div align=\"justify\"> As a list of json objects were obtained in Section 2.1, the desired values were extracted and checked for any missing or abnormal values or outliers. As the Foursqure dataset is well kept and maintained, there were not many missing values for rating. The missing  cells were filled with the mean of the whole rating column.</div>"
      ]
    },
    {
      "cell_type": "markdown",
      "metadata": {
        "id": "3FA5qo5CPPrK",
        "colab_type": "text"
      },
      "source": [
        "###2.3 Feature Selection"
      ]
    },
    {
      "cell_type": "markdown",
      "metadata": {
        "id": "Z5LmE519PQpS",
        "colab_type": "text"
      },
      "source": [
        "<div align=\"justify\">One hot encoding was also required to convert categorical data into column data. The categorical data columns required a feature selection process. This idea is to count the ratio of True:False or False:True and set a thresold to eliminate features that cannot meet the criteria. For this project,  the thresold is set to 8:2 and features below this ratio was excluded. After these process, the cleansed dataset consisted of 2480 rows and 42 columns and the selected attributes of venues are shown in Table 1.\n",
        " </div>"
      ]
    },
    {
      "cell_type": "markdown",
      "metadata": {
        "id": "GP0IJUrYPQrK",
        "colab_type": "text"
      },
      "source": [
        "<center><img width=25% \n",
        " src='https://raw.githubusercontent.com/ekman917/Coursera_Capstone/master/img/feat_selection.JPG' >             \n",
        "</center>\n",
        "<center>Table 1. Selected features            \n",
        "</center>"
      ]
    },
    {
      "cell_type": "markdown",
      "metadata": {
        "id": "L_n4rHmBSZzY",
        "colab_type": "text"
      },
      "source": [
        "##3. Exploratory Data Analysis"
      ]
    },
    {
      "cell_type": "markdown",
      "metadata": {
        "id": "rTp5PtezSY-z",
        "colab_type": "text"
      },
      "source": [
        "###3.1 Relationship between Rating and Location\n",
        "\n",
        "\n"
      ]
    },
    {
      "cell_type": "markdown",
      "metadata": {
        "id": "I6Y7dN_rPQuS",
        "colab_type": "text"
      },
      "source": [
        "<div align=\"justify\">\n",
        "According to Figure 1, the trend line shown was not essential to the prediction as locations are not continous value. However, this plot could suggest which locations were having venues with higher ratings and provide features for the model.\n",
        " </div>\n",
        " <center  class='d-flex flex-column'>\n",
        "<img width=15% src='https://raw.githubusercontent.com/ekman917/Coursera_Capstone/master/img/loc_list.JPG' >\n",
        "<img width=40% src='https://raw.githubusercontent.com/ekman917/Coursera_Capstone/master/img/rating_loc.JPG' >\n",
        "</center>\n",
        " <center>\n",
        "Figure 1. Scatter plot of Rating against Location\n",
        "</center>"
      ]
    },
    {
      "cell_type": "markdown",
      "metadata": {
        "id": "V0jf5tJZSQDf",
        "colab_type": "text"
      },
      "source": [
        "###3.2 Relationship between Rating and Number of Attributes\n"
      ]
    },
    {
      "cell_type": "markdown",
      "metadata": {
        "id": "WJuuko-ySQAI",
        "colab_type": "text"
      },
      "source": [
        "<div align=\"justify\">\n",
        "The number attributes was a strong feature suggesting the rating of a venue. The trend line proposed a positive relationship between rating and attribute number. It was a strong indicator for model training afterwards.\n",
        " </div>\n",
        " <center>\n",
        "<img width=40% src='https://raw.githubusercontent.com/ekman917/Coursera_Capstone/master/img/rating_attr_len.JPG' >\n",
        "</center>\n",
        " <center>\n",
        "Figure 2. Scatter plot of Rating against Number of Attributes\n",
        "</center>"
      ]
    },
    {
      "cell_type": "markdown",
      "metadata": {
        "id": "GeFjA0n7SP-F",
        "colab_type": "text"
      },
      "source": [
        "###3.3 Accumulative Rating Counts of Features"
      ]
    },
    {
      "cell_type": "markdown",
      "metadata": {
        "id": "fGAmLfNgYHrd",
        "colab_type": "text"
      },
      "source": [
        "<div align=\"justify\">\n",
        "These histogram plots revealed that having these features have more probability to help the venue to achieve higher rating, i.e.  a rating higher than 8 out of 10, as the red and yellow true points took over the false point after the 8 on x axis. On the other hand, the vertical error bar of each point were also essential to determine whether the histogram is reliable. The error bars were all short among all plots and this suggested that the plots were able to show a right trend wih the data.\n",
        " </div>\n",
        " <center>\n",
        "<img width=31% src='https://raw.githubusercontent.com/ekman917/Coursera_Capstone/master/img/res_cc.JPG' >\n",
        " <img width=31% src='https://raw.githubusercontent.com/ekman917/Coursera_Capstone/master/img/out_brunch.JPG' >\n",
        "</center>\n",
        " <center>\n",
        "<div>\n",
        "Figure 3. Histogram of Reservation and Credit Card\n",
        "<br>\n",
        "Figure 4. Histogram of Outdoor Seating and Brunch\n",
        "</div>\n",
        "</center>"
      ]
    },
    {
      "cell_type": "markdown",
      "metadata": {
        "id": "w00WjEf-SP63",
        "colab_type": "text"
      },
      "source": [
        " <center>\n",
        "<img width=31% src='https://raw.githubusercontent.com/ekman917/Coursera_Capstone/master/img/lun_din.JPG' >\n",
        "<img width=31% src='https://raw.githubusercontent.com/ekman917/Coursera_Capstone/master/img/beer_fb.JPG' >\n",
        "<img width=31% src='https://raw.githubusercontent.com/ekman917/Coursera_Capstone/master/img/ct_wf.JPG' >\n",
        "</center>\n",
        " <center>\n",
        "<div>\n",
        "Figure 5. Histogram of Lunch and Dinner\n",
        "<br>\n",
        "Figure 6. Histogram of Beer and Full Bar\n",
        "<br>\n",
        "Figure 7. Histogram of Cocktails and Wi-Fi\n",
        "</div>\n",
        "</center>"
      ]
    },
    {
      "cell_type": "markdown",
      "metadata": {
        "id": "Pq9v6f2VSP4q",
        "colab_type": "text"
      },
      "source": [
        "##4 Predictive Modeling"
      ]
    },
    {
      "cell_type": "markdown",
      "metadata": {
        "id": "cS_p3ri3mWyQ",
        "colab_type": "text"
      },
      "source": [
        "<div align=\"justify\">\n",
        "Before training the models listed below, the dataset values were first standardised by the MinMaxScaler method from sklearn python package in order to control the values range and avoid difference in value scale altering the training and prediction undesirably. The model training process could be performed after this important pre-processing step.\n",
        "\n",
        " </div>\n",
        " <br>\n",
        " <div align=\"justify\">\n",
        "Regarding the nature of the problem, predicting the continous Rating value of each venue is required. Therefore, three regression models were selected for the project, which were linear regression model, decision tree regression model and random forest regression model. It is important to understand that the decision tree and random forest regression models can only predict labels seen while training. Other labels unseen cannot be predicted, which is one of the significant difference when comparing with linear regression. \n",
        " </div>"
      ]
    },
    {
      "cell_type": "markdown",
      "metadata": {
        "id": "aCrsfes8SP1Z",
        "colab_type": "text"
      },
      "source": [
        "###4.1 Linear Regression"
      ]
    },
    {
      "cell_type": "markdown",
      "metadata": {
        "id": "EHmKHFPlSPzH",
        "colab_type": "text"
      },
      "source": [
        "<div align=\"justify\">\n",
        "The first algorithm used for model training was linear regression as it is a basic regression model. Upon training the program, the rooted mean squared error was 0.1195 while the R squared is 0.26. The coefficient of locations were -3.53e+10 and the others were listed in Table 2. The intercept of the model was 3.53e+10.\n",
        " </div>\n",
        " \n",
        " <center>\n",
        "<img width=31% src='https://raw.githubusercontent.com/ekman917/Coursera_Capstone/master/img/coef.JPG' ></center>\n",
        " <center>\n",
        "Table 2. Coefficient of different X variables.\n",
        "</center>\n"
      ]
    },
    {
      "cell_type": "markdown",
      "metadata": {
        "id": "yL9QZzvCSPmz",
        "colab_type": "text"
      },
      "source": [
        "###4.2 Decision Tree"
      ]
    },
    {
      "cell_type": "markdown",
      "metadata": {
        "id": "bBMW0MCcPQxP",
        "colab_type": "text"
      },
      "source": [
        "<div align=\"justify\">\n",
        "A decision tree model requires the optimization of parameters. In this project, the grid search method was applied to optimize it. This method was basically using brute force, which was not the best method. A better method would be discussed in the discussion section.\n",
        "</div>\n",
        "<br>\n",
        "<div align=\"justify\">\n",
        "By the grid search method, the optimal max depth, max leaf nodes and random state were 9, 14 and 94. The rooted mean squared error was 0.1196. \n",
        "</div>\n",
        "<br>\n",
        "<br>\n",
        "<center>\n",
        "<img width=75% src='https://raw.githubusercontent.com/ekman917/Coursera_Capstone/master/img/tree.png'>\n",
        "</center>\n",
        "<center>\n",
        "Figure 8. Tree Diagram of the Decision Tree model.\n",
        "</center>"
      ]
    },
    {
      "cell_type": "markdown",
      "metadata": {
        "id": "HQZwXvPwUICE",
        "colab_type": "text"
      },
      "source": [
        "###4.3 Random Forest"
      ]
    },
    {
      "cell_type": "markdown",
      "metadata": {
        "id": "Cf5nk4GzUH3h",
        "colab_type": "text"
      },
      "source": [
        "<div align=\"justify\">\n",
        "Grid search method was also applied for optimizing the random forest model. With the parameters tuned, the rooted mean squared error was 0.1180.\n",
        "</div>\n"
      ]
    },
    {
      "cell_type": "markdown",
      "metadata": {
        "id": "n_l4WsHaUHvt",
        "colab_type": "text"
      },
      "source": [
        "##5. Discussion"
      ]
    },
    {
      "cell_type": "markdown",
      "metadata": {
        "id": "6PjEcEc9UHmt",
        "colab_type": "text"
      },
      "source": [
        "<div align='justify'>As shown in the table below, there was not a significant difference in rooted mean squared error among the chosen models. According to the linear model, all venue attributes posed a positive relationship with the rating except for outdoor seating, full bar and beer. Attribute number was also a variable with negative coefficient, so was the locations. As mentioned in the linear model section, all the location variable had the same coefficient, they might be required to be eliminated if further analysis is performed.\n",
        "<div>\n",
        "<br>\n",
        "<div align='justify'>For the decision tree and random forest models, the grid search method was applied to optimized the models. If the method had to be improved, the Beysian approah decision tree method could be adopted for the project. Regarding the reqults from the models, as the MSE had only slight difference on the problem, there might be better features to extract from the Foursquare API.\n",
        "<div>\n",
        "<br>\n",
        "<div align='justify'>In the future direction for the project, more features will be extracted by the Foursquare time series API as this API provide total check-ins and unique check-ins of the venues over time. This would also be a strong indicator of the prediction models. Meanwhile, as the location variable seemed to be of no important impact on the model, they would be removed from the training features.\n",
        "<div>\n",
        "    "
      ]
    },
    {
      "cell_type": "markdown",
      "metadata": {
        "id": "19VTQ0z6UHcy",
        "colab_type": "text"
      },
      "source": [
        "##6. Conclusion"
      ]
    },
    {
      "cell_type": "markdown",
      "metadata": {
        "id": "yYBCEwipUHTz",
        "colab_type": "text"
      },
      "source": [
        "All in all, most selected features of the training data were important for owners to get higher ratings. The outdoor seating, full bar and beer had negative coefficients, which reflected that they are not desirabe in getting high ratings and this required more investigation to reveal the underlying reason. As this project is not yet comprehensive, a phase 2 analysis is required to have a more in-depth analysis on the topic."
      ]
    }
  ]
}